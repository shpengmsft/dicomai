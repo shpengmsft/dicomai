{
 "cells": [
  {
   "cell_type": "markdown",
   "metadata": {},
   "source": [
    "# Create JsonLine files from CSV ground truth\n",
    "\n",
    "\n",
    "This script will create two labeled datasets: <dataset_name>_training and <dataset_name>_test\n",
    "\n",
    "1. split training and test labeled datapoints\n",
    "2. create json-line files for training and test\n",
    "3. upload json-line files to default workspace blobstore, under fhl/datasets/<dataset_name>/label folder\n",
    "4. register labeled datasets"
   ]
  },
  {
   "cell_type": "code",
   "execution_count": 26,
   "metadata": {},
   "outputs": [],
   "source": [
    "import json\n",
    "import pandas as pd\n",
    "import matplotlib.pyplot as plt\n",
    "import sklearn\n",
    "from sklearn.model_selection import train_test_split\n"
   ]
  },
  {
   "cell_type": "code",
   "execution_count": 30,
   "metadata": {},
   "outputs": [],
   "source": [
    "datastore_name = 'workspaceblobstore'\n",
    "dataset_name = 'NoWindow'\n",
    "balanced_dataset_name = 'Balanced_NoWindow'"
   ]
  },
  {
   "cell_type": "code",
   "execution_count": 22,
   "metadata": {},
   "outputs": [
    {
     "name": "stdout",
     "output_type": "stream",
     "text": [
      "cwd:/mnt/batch/tasks/shared/LS_root/mounts/clusters/shanslvm/code\n"
     ]
    }
   ],
   "source": [
    "# read ground truth from csv file\n",
    "raw_df = pd.read_csv('Users/shansl/fhl/stage_2_detailed_class_info.csv')\n",
    "dedup_df = raw_df[ (raw_df['patientId'].duplicated(keep='first') == False)]"
   ]
  },
  {
   "cell_type": "code",
   "execution_count": 31,
   "metadata": {},
   "outputs": [
    {
     "name": "stdout",
     "output_type": "stream",
     "text": [
      "18036 new training size\n"
     ]
    },
    {
     "data": {
      "image/png": "[encoded data removed]",
      "text/plain": "<Figure size 1440x720 with 2 Axes>"
     },
     "metadata": {
      "needs_background": "light"
     },
     "output_type": "display_data"
    }
   ],
   "source": [
    "# balance dataset\n",
    "fig, (ax1, ax2) = plt.subplots(1, 2, figsize = (20, 10))\n",
    "dedup_df.groupby('class').size().plot.bar(ax=ax1)\n",
    "\n",
    "min_samples_count = min(dedup_df.groupby('class').size())\n",
    "\n",
    "balanced_dedup_df = dedup_df.groupby('class').\\\n",
    "    apply(lambda x: x.sample(min_samples_count)).\\\n",
    "    reset_index(drop=True)\n",
    "balanced_dedup_df.groupby('class').size().plot.bar(ax=ax2) \n",
    "\n",
    "print(balanced_dedup_df.shape[0], 'new dataset size')"
   ]
  },
  {
   "cell_type": "code",
   "execution_count": 37,
   "metadata": {},
   "outputs": [
    {
     "name": "stdout",
     "output_type": "stream",
     "text": [
      "14428 new training size\n",
      "3608 new test size\n"
     ]
    }
   ],
   "source": [
    "# split into train and test\n",
    "train, test = train_test_split(balanced_dedup_df, test_size = 0.2, random_state = 2021)\n",
    "print(train.shape[0], 'new training size')\n",
    "print(test.shape[0], 'new test size')"
   ]
  },
  {
   "cell_type": "code",
   "execution_count": 40,
   "metadata": {},
   "outputs": [],
   "source": [
    "# Create Multi-Class JasonLine Objects\n",
    "def create_jsonline_objects(datastore_name: str, dataset_name: str, df: pd.DataFrame):\n",
    "    jsonline_obj = []\n",
    "    for _, row in df.iterrows():\n",
    "        obj = {}\n",
    "        obj['image_url'] = 'AmlDatastore://' + datastore_name + '/fhl/datasets/' + dataset_name + '/image/' + row['patientId'] + '.png'\n",
    "        obj['label'] = row['class']\n",
    "        obj['label_confidence'] = 1.0\n",
    "        jsonline_obj.append(obj)\n",
    "    return jsonline_obj"
   ]
  },
  {
   "cell_type": "code",
   "execution_count": 41,
   "metadata": {},
   "outputs": [],
   "source": [
    "import os\n",
    "import json\n",
    "def save_jsonline_file(objects: list, file_name: str):\n",
    "    base_path = os.path.dirname(file_name)\n",
    "    if not os.path.exists(base_path):\n",
    "        os.makedirs(base_path)\n",
    "    with open(file_name, 'w') as jf:\n",
    "        for obj in objects:\n",
    "            jf.write('{}\\n'.format(json.dumps(obj)))"
   ]
  },
  {
   "cell_type": "code",
   "execution_count": 43,
   "metadata": {},
   "outputs": [],
   "source": [
    "# Generate jsonline files, which can be registered as labeled dataset\n",
    "training_label_folder = os.path.abspath(os.path.join(os.path.curdir, 'training_label'))\n",
    "test_label_folder = os.path.abspath(os.path.join(os.path.curdir, 'test_label'))\n",
    "\n",
    "train_obj = create_jsonline_objects(datastore_name, balanced_dataset_name, train)\n",
    "save_jsonline_file(train_obj, os.path.join(training_label_folder, 'labeleddatapoints_training.jsonl'))\n",
    "\n",
    "test_obj = create_jsonline_objects(datastore_name, balanced_dataset_name, test)\n",
    "save_jsonline_file(test_obj, os.path.join(test_label_folder, 'labeleddatapoints_test.jsonl'))"
   ]
  },
  {
   "cell_type": "code",
   "execution_count": 44,
   "metadata": {},
   "outputs": [
    {
     "name": "stdout",
     "output_type": "stream",
     "text": [
      "Uploading an estimated of 1 files\n",
      "Uploading /mnt/batch/tasks/shared/LS_root/mounts/clusters/shanslvm/code/training_label/labeleddatapoints_training.jsonl\n",
      "Uploaded /mnt/batch/tasks/shared/LS_root/mounts/clusters/shanslvm/code/training_label/labeleddatapoints_training.jsonl, 1 files out of an estimated total of 1\n",
      "Uploaded 1 files\n",
      "Uploading an estimated of 1 files\n",
      "Uploading ./test_label/labeleddatapoints_test.jsonl\n",
      "Uploaded ./test_label/labeleddatapoints_test.jsonl, 1 files out of an estimated total of 1\n",
      "Uploaded 1 files\n"
     ]
    },
    {
     "data": {
      "text/plain": "$AZUREML_DATAREFERENCE_41aa191f16ad42d88feb67ddc6e83d80"
     },
     "execution_count": 44,
     "metadata": {},
     "output_type": "execute_result"
    }
   ],
   "source": [
    "import azureml.core\n",
    "from azureml.core import Workspace\n",
    "# Load workspace\n",
    "ws = Workspace.from_config()\n",
    "ds = ws.datastores['workspaceblobstore']\n",
    "ds.upload(src_dir = training_label_folder, target_path= '/fhl/datasets/' + balanced_dataset_name + '/label/', overwrite= True)\n",
    "ds.upload(src_dir = './test_label', target_path= '/fhl/datasets/' + balanced_dataset_name + '/label/', overwrite= True)\n"
   ]
  },
  {
   "cell_type": "code",
   "execution_count": 45,
   "metadata": {},
   "outputs": [
    {
     "data": {
      "text/plain": "{\n  \"source\": [\n    \"('workspaceblobstore', 'fhl/datasets/Balanced_NoWindow/label/labeleddatapoints_test.jsonl')\"\n  ],\n  \"definition\": [\n    \"GetDatastoreFiles\",\n    \"ParseJsonLines\",\n    \"ExpressionAddColumn\",\n    \"DropColumns\",\n    \"DropColumns\",\n    \"RenameColumns\",\n    \"DropColumns\"\n  ],\n  \"registration\": {\n    \"id\": \"2d8d0910-90ce-4c02-81d4-55abb2f8778c\",\n    \"name\": \"Balanced_NoWindow_test\",\n    \"version\": 1,\n    \"tags\": {\n      \"labelingCreatedBy\": \"Guess\",\n      \"labelingProjectType\": \"Image Classification Multi-class\",\n      \"SourceDatastoreName\": \"workspaceblobstore\",\n      \"SourceRelativePath\": \"fhl/datasets/Balanced_NoWindow/image/\",\n      \"labelingLabelName\": \"[\\\"Lung Opacity\\\",\\\"No Lung Opacity / Not Normal\\\",\\\"Normal\\\"]\"\n    },\n    \"workspace\": \"Workspace.create(name='dicommodel', subscription_id='f375b912-331c-4fc5-8e9f-2d7205e3e036', resource_group='dicom-model-rg')\"\n  }\n}"
     },
     "execution_count": 45,
     "metadata": {},
     "output_type": "execute_result"
    }
   ],
   "source": [
    "# Create/register labeled dataset for training and test(inference)\n",
    "from azureml.contrib.dataset.labeled_dataset import _LabeledDatasetFactory, LabeledDatasetTask\n",
    "\n",
    "tags = {}\n",
    "tags['labelingCreatedBy'] = \"Guess\"\n",
    "tags['labelingProjectType'] = 'Image Classification Multi-class'\n",
    "tags['SourceDatastoreName'] = 'workspaceblobstore'\n",
    "tags['SourceRelativePath'] = 'fhl/datasets/' + balanced_dataset_name + '/image/'\n",
    "tags['labelingLabelName'] = '[\"Lung Opacity\",\"No Lung Opacity / Not Normal\",\"Normal\"]'\n",
    "\n",
    "training_dataset = _LabeledDatasetFactory.from_json_lines(task=LabeledDatasetTask.IMAGE_CLASSIFICATION, path=ds.path('fhl/datasets/' + balanced_dataset_name + '/label/labeleddatapoints_training.jsonl'))\n",
    "training_dataset.register(ws, balanced_dataset_name + '_training', tags= tags)\n",
    "\n",
    "test_dataset = _LabeledDatasetFactory.from_json_lines(task=LabeledDatasetTask.IMAGE_CLASSIFICATION, path=ds.path('fhl/datasets/' + balanced_dataset_name + '/label/labeleddatapoints_test.jsonl'))\n",
    "test_dataset.register(ws, balanced_dataset_name + '_test', tags= tags)"
   ]
  },
  {
   "cell_type": "code",
   "execution_count": null,
   "metadata": {},
   "outputs": [],
   "source": []
  }
 ],
 "metadata": {
  "kernelspec": {
   "display_name": "Python 3.8.10 64-bit ('fhl_py38': conda)",
   "name": "python3810jvsc74a57bd0eadf4def0511d16cff3b403ebad030b79626359e624f736446cdd8402c7991c1"
  },
  "language_info": {
   "codemirror_mode": {
    "name": "ipython",
    "version": 3
   },
   "file_extension": ".py",
   "mimetype": "text/x-python",
   "name": "python",
   "nbconvert_exporter": "python",
   "pygments_lexer": "ipython3",
   "version": "3.8.10"
  },
  "orig_nbformat": 2
 },
 "nbformat": 4,
 "nbformat_minor": 2
}