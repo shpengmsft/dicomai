{
  "cells": [
    {
      "source": [
        "# DICOM to PNG converter\n",
        "\n",
        "Converting all DICOM images in given dataset to .png images and upload to default workspace blobstore\n",
        "\n",
        "\n",
        "`/fhl/datasets/<dataset_name>/image/`\n",
        "\n",
        "\n",
        "Note:\n",
        "\n",
        "    - This notebook runs on Compute Instance (Linux OS)\n",
        "    - This notebook will have long runing time (depends on VM)\n",
        "\n",
        "Make sure pydicom is installed. `pip install pydicom`"
      ],
      "cell_type": "markdown",
      "metadata": {
        "collapsed": true,
        "jupyter": {
          "source_hidden": false,
          "outputs_hidden": false
        },
        "nteract": {
          "transient": {
            "deleting": false
          }
        }
      }
    },
    {
      "cell_type": "code",
      "source": [
        "import os\n",
        "import pydicom\n",
        "import cv2\n",
        "\n",
        "import azureml.core\n",
        "from azureml.core import Workspace, Dataset"
      ],
      "outputs": [],
      "execution_count": null,
      "metadata": {
        "gather": {
          "logged": 1622014713847
        }
      }
    },
    {
      "cell_type": "code",
      "source": [
        "ws = Workspace.from_config()\n",
        "default_ds = ws.datastores['workspaceblobstore']\n",
        "dicom_dataset_name = 'RSNA_training'\n",
        "dataset_name = 'NoWindow'"
      ],
      "outputs": [],
      "execution_count": null,
      "metadata": {
        "collapsed": true,
        "jupyter": {
          "source_hidden": false,
          "outputs_hidden": false
        },
        "nteract": {
          "transient": {
            "deleting": false
          }
        },
        "gather": {
          "logged": 1622014716013
        }
      }
    },
    {
      "cell_type": "code",
      "source": [
        "# get datastore \r\n",
        "from azureml.core.datastore import Datastore\r\n",
        "if 'datasets' in ws.datastores.keys():\r\n",
        "    ds = ws.datastores['datasets']\r\n",
        "else:\r\n",
        "    account_key = os.getenv(\"ACCOUNT_KEY\")\r\n",
        "    ds = Datastore.register_azure_blob_container(ws, datastore_name='datasets', container_name='imagecontainer', \r\n",
        "                                             account_name='dicommodel2290602728', account_key=account_key, \r\n",
        "                                             resource_group='dicom-model-rg')"
      ],
      "outputs": [],
      "execution_count": null,
      "metadata": {
        "collapsed": true,
        "jupyter": {
          "source_hidden": false,
          "outputs_hidden": false
        },
        "nteract": {
          "transient": {
            "deleting": false
          }
        },
        "gather": {
          "logged": 1622014717023
        }
      }
    },
    {
      "cell_type": "code",
      "source": [
        "# get DICOM source dataset\n",
        "dicom_dataset = None\n",
        "\n",
        "if dicom_dataset_name in ws.datasets:\n",
        "    dicom_dataset = ws.datasets.get(dicom_dataset_name)\n",
        "    print('Found the dataset', dicom_dataset_name)\n",
        "else:\n",
        "    raise RuntimeError('Dataset {} not found.'.format(dicom_dataset_name))"
      ],
      "outputs": [],
      "execution_count": null,
      "metadata": {
        "collapsed": true,
        "jupyter": {
          "source_hidden": false,
          "outputs_hidden": false
        },
        "nteract": {
          "transient": {
            "deleting": false
          }
        },
        "gather": {
          "logged": 1622014743163
        }
      }
    },
    {
      "cell_type": "code",
      "source": [
        "# method ot convert a dicom file to a .PNG\r\n",
        "def convert_to_png(dicom_input_file: str, png_output_file: str, window_center: int = 4000, window_width: int = 10000):\r\n",
        "\r\n",
        "    if not (dicom_input_file.lower().endswith('.dcm') or dicom_input_file.lower().endswith('.dicm')):\r\n",
        "        raise RuntimeError(\"{} is not a DICOM file.\".format(dicom_input_file))\r\n",
        "\r\n",
        "    if not os.path.exists(dicom_input_file):\r\n",
        "        raise RuntimeError(\"{} not fould.\".format(dicom_input_file))\r\n",
        "\r\n",
        "    base_name = os.path.basename(dicom_input_file)\r\n",
        "\r\n",
        "    dicom_img = pydicom.read_file(dicom_input_file)\r\n",
        "\r\n",
        "    #  TODO: 0028,1052 (Rescale Intercept) and 0028, 1053 (Rescale Slope)\r\n",
        "    #  These are the paramaters which define the linear rescaling from raw pixel values inthe DICOM field to Hounsfield Units.\r\n",
        "\r\n",
        "    img = dicom_img.pixel_array\r\n",
        "    min_hu = img.min()\r\n",
        "    max_hu = img.max()\r\n",
        "    lower_limit = max(min_hu, window_center - window_width / 2)\r\n",
        "    upper_limit = min(max_hu, window_center + window_width / 2)\r\n",
        "\r\n",
        "    _, _ = cv2.threshold(img, lower_limit, max_hu, cv2.THRESH_TOZERO)\r\n",
        "    _, _ = cv2.threshold(img, upper_limit, max_hu, cv2.THRESH_TOZERO_INV)\r\n",
        "\r\n",
        "    scaled_img = cv2.convertScaleAbs(img, alpha=255.0 / (upper_limit - lower_limit))\r\n",
        "    output_folder = os.path.dirname(png_output_file)\r\n",
        "    if not os.path.exists(output_folder):\r\n",
        "        os.makedirs(output_folder)\r\n",
        "    cv2.imwrite(png_output_file, scaled_img)"
      ],
      "outputs": [],
      "execution_count": null,
      "metadata": {
        "collapsed": true,
        "jupyter": {
          "source_hidden": false,
          "outputs_hidden": false
        },
        "nteract": {
          "transient": {
            "deleting": false
          }
        },
        "gather": {
          "logged": 1622015992255
        }
      }
    },
    {
      "cell_type": "code",
      "source": [
        "dicom_files = []\n",
        "dicom_mount_point = None\n",
        "png_temp_folder = os.path.join(os.getenv(\"TEMP\") if os.name==\"nt\" else \"/tmp\", dicom_dataset_name)\n",
        "\n",
        "with dicom_dataset.mount() as mount_context:\n",
        "    # mount and list all dicom files\n",
        "    dicom_mount_point = mount_context.mount_point\n",
        "    for root_dir, _, files in os.walk(mount_context.mount_point):\n",
        "        for file_name in files:\n",
        "            if file_name.lower().endswith('.dcm') or file_name.lower().endswith('.dicm'):\n",
        "                dicom_full_path = os.path.join(root_dir, file_name)\n",
        "                dicom_files.append(dicom_full_path)\n",
        "   \n",
        "    for dicom in dicom_files:\n",
        "        relative_path = os.path.relpath(dicom, dicom_mount_point).lower()\n",
        "        png_relative_path = None\n",
        "        if relative_path.endswith(\".dcm\"):\n",
        "            png_relative_path = relative_path.replace('.dcm', '.png')\n",
        "        else:\n",
        "            png_relative_path = relative_path.replace('.dicm', '.png')\n",
        "\n",
        "        output_file = os.path.join(png_temp_folder, png_relative_path)\n",
        "        print('converting {} to {}'.format(dicom, output_file ))\n",
        "        convert_to_png(dicom, output_file)\n",
        "        \n",
        "        if not os.path.exists(output_file):\n",
        "            raise RuntimeError(\"{} not fould.\".format(output_file))"
      ],
      "outputs": [],
      "execution_count": null,
      "metadata": {
        "collapsed": true,
        "jupyter": {
          "source_hidden": false,
          "outputs_hidden": false
        },
        "nteract": {
          "transient": {
            "deleting": false
          }
        },
        "gather": {
          "logged": 1622018194738
        }
      }
    },
    {
      "cell_type": "code",
      "source": [
        "count = 0\r\n",
        "for dir, _, files in os.walk(png_temp_folder):\r\n",
        "    for f in files:\r\n",
        "     if f.endswith('.png'):\r\n",
        "        count += 1\r\n",
        "\r\n",
        "print('Total {} PNG files generated under {}.'.format(count, png_temp_folder))"
      ],
      "outputs": [],
      "execution_count": null,
      "metadata": {
        "collapsed": true,
        "jupyter": {
          "source_hidden": false,
          "outputs_hidden": false
        },
        "nteract": {
          "transient": {
            "deleting": false
          }
        },
        "gather": {
          "logged": 1622042637912
        }
      }
    },
    {
      "cell_type": "code",
      "source": [
        "# upload to default blobstore of the workspace\n",
        "\n",
        "default_ds.upload(src_dir = png_temp_folder, target_path= '/fhl/datasets/' + dataset_name + '/image/', overwrite= True)\n"
      ],
      "outputs": [],
      "execution_count": null,
      "metadata": {
        "collapsed": true,
        "jupyter": {
          "source_hidden": false,
          "outputs_hidden": false
        },
        "nteract": {
          "transient": {
            "deleting": false
          }
        },
        "gather": {
          "logged": 1622042971742
        }
      }
    },
    {
      "cell_type": "code",
      "source": [
        "print('Done')"
      ],
      "outputs": [],
      "execution_count": null,
      "metadata": {
        "collapsed": true,
        "jupyter": {
          "source_hidden": false,
          "outputs_hidden": false
        },
        "nteract": {
          "transient": {
            "deleting": false
          }
        },
        "gather": {
          "logged": 1622043106214
        }
      }
    },
    {
      "cell_type": "code",
      "source": [],
      "outputs": [],
      "execution_count": null,
      "metadata": {
        "collapsed": true,
        "jupyter": {
          "source_hidden": false,
          "outputs_hidden": false
        },
        "nteract": {
          "transient": {
            "deleting": false
          }
        }
      }
    }
  ],
  "metadata": {
    "kernelspec": {
      "name": "python3-azureml",
      "language": "python",
      "display_name": "Python 3.6 - AzureML"
    },
    "language_info": {
      "name": "python",
      "version": "3.6.9",
      "mimetype": "text/x-python",
      "codemirror_mode": {
        "name": "ipython",
        "version": 3
      },
      "pygments_lexer": "ipython3",
      "nbconvert_exporter": "python",
      "file_extension": ".py"
    },
    "kernel_info": {
      "name": "python3-azureml"
    },
    "nteract": {
      "version": "nteract-front-end@1.0.0"
    },
    "microsoft": {
      "host": {
        "AzureML": {
          "notebookHasBeenCompleted": true
        }
      }
    }
  },
  "nbformat": 4,
  "nbformat_minor": 2
}