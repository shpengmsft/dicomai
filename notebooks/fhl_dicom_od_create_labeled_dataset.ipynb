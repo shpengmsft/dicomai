{
 "metadata": {
  "language_info": {
   "codemirror_mode": {
    "name": "ipython",
    "version": 3
   },
   "file_extension": ".py",
   "mimetype": "text/x-python",
   "name": "python",
   "nbconvert_exporter": "python",
   "pygments_lexer": "ipython3",
   "version": "3.8.10"
  },
  "orig_nbformat": 2,
  "kernelspec": {
   "name": "python3810jvsc74a57bd0eadf4def0511d16cff3b403ebad030b79626359e624f736446cdd8402c7991c1",
   "display_name": "Python 3.8.10 64-bit ('fhl_py38': conda)"
  }
 },
 "nbformat": 4,
 "nbformat_minor": 2,
 "cells": [
  {
   "source": [
    "# Create BoundingBox Labeled Datasets from CSV ground truth\n",
    "\n",
    "\n",
    "This script will create two labeled datasets: <dataset_name>_training and <dataset_name>_test\n",
    "\n",
    "1. split training and test labeled datapoints\n",
    "2. create jason-line files for training and test\n",
    "3. upload jason-line files to default workspace blobstore, under fhl/datasets/<dataset_name>/label folder\n",
    "4. register labeled datasets"
   ],
   "cell_type": "markdown",
   "metadata": {}
  },
  {
   "cell_type": "code",
   "execution_count": null,
   "metadata": {},
   "outputs": [],
   "source": [
    "import json\n",
    "import pandas as pd\n",
    "import sklearn\n",
    "from sklearn.model_selection import train_test_split\n"
   ]
  },
  {
   "cell_type": "code",
   "execution_count": null,
   "metadata": {},
   "outputs": [],
   "source": [
    "datastore_name = 'workspaceblobstore'\n",
    "dataset_name = 'NoWindowOD'"
   ]
  },
  {
   "cell_type": "code",
   "execution_count": null,
   "metadata": {},
   "outputs": [],
   "source": [
    "# read ground truth from csv file\n",
    "raw_df = pd.read_csv('./labels/stage_2_train_labels.csv')\n",
    "\n",
    "# adding label\n",
    "def get_label(row):\n",
    "    if row['Target']  == 0:\n",
    "        val = 'Not Lung Opacity'\n",
    "    elif row['Target'] == 1:\n",
    "        val = 'Lung Opacity'\n",
    "    return val\n",
    "raw_df['Label'] =  raw_df.apply(get_label, axis=1)\n",
    "\n",
    "# Filling NaN with average values\n",
    "raw_df['x'].fillna(value=raw_df['x'].mean(), inplace=True)\n",
    "raw_df['y'].fillna(value=raw_df['y'].mean(), inplace=True)\n",
    "raw_df['width'].fillna(value=raw_df['width'].mean(), inplace=True)\n",
    "raw_df['height'].fillna(value=raw_df['height'].mean(), inplace=True)\n"
   ]
  },
  {
   "cell_type": "code",
   "execution_count": null,
   "metadata": {},
   "outputs": [],
   "source": [
    "# merge by\n",
    "IMG_WIDTH = 1024\n",
    "IMG_HEIGHT = 1024\n",
    "jsonline_obj = []\n",
    "tags = []\n",
    "target_count = 0\n",
    "for patient_id in raw_df['patientId'].unique():\n",
    "    obj = {}\n",
    "    target = False\n",
    "    obj['image_url'] = 'AmlDatastore://' + datastore_name + '/fhl/datasets/' + dataset_name + '/image/' + patient_id + '.png'\n",
    "    obj['label'] = []\n",
    "    obj['label_confidence'] = []\n",
    "    sub_df = raw_df[raw_df['patientId'] == patient_id]\n",
    "    for _, row in sub_df.iterrows():\n",
    "        target = row['Label'] == 'Lung Opacity'\n",
    "        label = {'label': row['Label'], 'topX': row['x']/IMG_WIDTH, 'topY': row['y']/IMG_HEIGHT, 'bottomX': (row['x'] + row['width'])/IMG_WIDTH, 'bottomY': (row['y'] + row['height'])/IMG_HEIGHT}\n",
    "        obj['label'].append(label)\n",
    "        obj['label_confidence'].append(1.0)\n",
    "    jsonline_obj.append(obj)\n",
    "    if target:\n",
    "        tags.append('Lung Opacity')\n",
    "        target_count += 1\n",
    "    else:\n",
    "        tags.append('Not Lung Opacity')\n",
    "image_df = pd.DataFrame({'obj':jsonline_obj,'tag':tags})"
   ]
  },
  {
   "cell_type": "code",
   "execution_count": null,
   "metadata": {},
   "outputs": [],
   "source": [
    "image_df['tag'].value_counts()"
   ]
  },
  {
   "cell_type": "code",
   "execution_count": null,
   "metadata": {},
   "outputs": [],
   "source": [
    "#  Down-sample Not Lung Opacit\n",
    "from sklearn.utils import resample\n",
    "major_df = image_df[image_df['tag'] == 'Not Lung Opacity']\n",
    "minor_df = image_df[image_df['tag'] == 'Lung Opacity']\n",
    "down_sample_df = resample(major_df, replace=False, n_samples=minor_df.shape[0])\n",
    "source_df = pd.concat([down_sample_df, minor_df])\n",
    "train, test = train_test_split(source_df, test_size = 0.2, random_state = 2021)\n",
    "train['tag'].value_counts()"
   ]
  },
  {
   "cell_type": "code",
   "execution_count": null,
   "metadata": {},
   "outputs": [],
   "source": [
    "train_obj = train['obj']\n",
    "test_obj = test['obj']"
   ]
  },
  {
   "cell_type": "code",
   "execution_count": null,
   "metadata": {},
   "outputs": [],
   "source": [
    "import os\n",
    "import json\n",
    "def save_jasonline_file(objects: list, file_name: str):\n",
    "    base_path = os.path.dirname(file_name)\n",
    "    if not os.path.exists(base_path):\n",
    "        os.makedirs(base_path)\n",
    "    with open(file_name, 'w') as jf:\n",
    "        for obj in objects:\n",
    "            jf.write('{}\\n'.format(json.dumps(obj)))"
   ]
  },
  {
   "cell_type": "code",
   "execution_count": null,
   "metadata": {},
   "outputs": [],
   "source": [
    "# Generate jsonline files, which can be registered as labeled dataset\n",
    "label_folder = os.path.abspath(os.path.join(os.path.curdir, 'label'))\n",
    "save_jasonline_file(train_obj, os.path.join(label_folder, 'labeleddatapoints_training.jsonl'))\n",
    "save_jasonline_file(test_obj, os.path.join(label_folder, 'labeleddatapoints_test.jsonl'))"
   ]
  },
  {
   "cell_type": "code",
   "execution_count": null,
   "metadata": {},
   "outputs": [],
   "source": [
    "import azureml.core\n",
    "from azureml.core import Workspace\n",
    "# Load workspace\n",
    "ws = Workspace.from_config()\n",
    "ds = ws.datastores['workspaceblobstore']\n",
    "ds.upload(src_dir = label_folder, target_path= '/fhl/datasets/' + dataset_name + '/label/', overwrite= True)"
   ]
  },
  {
   "cell_type": "code",
   "execution_count": null,
   "metadata": {},
   "outputs": [],
   "source": [
    "# Create/register labeled dataset for training and test(inference)\n",
    "from azureml.contrib.dataset.labeled_dataset import _LabeledDatasetFactory, LabeledDatasetTask\n",
    "\n",
    "tags = {}\n",
    "tags['labelingCreatedBy'] = \"FHL Notebook\"\n",
    "tags['labelingProjectType'] = 'Object Identification (Bounding Box)'\n",
    "tags['SourceDatastoreName'] = 'workspaceblobstore'\n",
    "tags['SourceRelativePath'] = 'fhl/datasets/' + dataset_name + '/image/'\n",
    "tags['labelingLabelName'] = '[\"Lung Opacity\",\"No Lung Opacity\"]'\n",
    "\n",
    "training_dataset = _LabeledDatasetFactory.from_json_lines(task=LabeledDatasetTask.IMAGE_CLASSIFICATION, path=ds.path('fhl/datasets/' + dataset_name + '/label/labeleddatapoints_training.jsonl'))\n",
    "training_dataset.register(ws, dataset_name + '_training', tags= tags)\n",
    "\n",
    "test_dataset = _LabeledDatasetFactory.from_json_lines(task=LabeledDatasetTask.IMAGE_CLASSIFICATION, path=ds.path('fhl/datasets/' + dataset_name + '/label/labeleddatapoints_test.jsonl'))\n",
    "test_dataset.register(ws, dataset_name + '_test', tags= tags)"
   ]
  },
  {
   "cell_type": "code",
   "execution_count": null,
   "metadata": {},
   "outputs": [],
   "source": []
  }
 ]
}