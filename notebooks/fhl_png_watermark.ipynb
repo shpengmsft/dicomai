{
  "cells": [
    {
      "cell_type": "code",
      "source": [
        "import os\r\n",
        "import pydicom\r\n",
        "import cv2\r\n",
        "\r\n",
        "import azureml.core\r\n",
        "from azureml.core import Workspace, Dataset"
      ],
      "outputs": [],
      "execution_count": null,
      "metadata": {
        "collapsed": true,
        "jupyter": {
          "source_hidden": false,
          "outputs_hidden": false
        },
        "nteract": {
          "transient": {
            "deleting": false
          }
        },
        "gather": {
          "logged": 1622503224404
        }
      }
    },
    {
      "cell_type": "code",
      "source": [
        "ws = Workspace.from_config()\r\n",
        "default_ds = ws.datastores['workspaceblobstore']\r\n",
        "dicom_dataset_name = 'RSNA_training'\r\n",
        "watermarked_dataset_name = 'WaterMarked'"
      ],
      "outputs": [],
      "execution_count": null,
      "metadata": {
        "collapsed": true,
        "jupyter": {
          "source_hidden": false,
          "outputs_hidden": false
        },
        "nteract": {
          "transient": {
            "deleting": false
          }
        },
        "gather": {
          "logged": 1622503235446
        }
      }
    },
    {
      "cell_type": "code",
      "source": [
        "# get DICOM source dataset\r\n",
        "dicom_dataset = None\r\n",
        "\r\n",
        "if dicom_dataset_name in ws.datasets:\r\n",
        "    dicom_dataset = ws.datasets.get(dicom_dataset_name)\r\n",
        "    print('Found the dataset', dicom_dataset_name)\r\n",
        "else:\r\n",
        "    raise RuntimeError('Dataset {} not found.'.format(dicom_dataset_name))"
      ],
      "outputs": [],
      "execution_count": null,
      "metadata": {
        "collapsed": true,
        "jupyter": {
          "source_hidden": false,
          "outputs_hidden": false
        },
        "nteract": {
          "transient": {
            "deleting": false
          }
        },
        "gather": {
          "logged": 1622503239982
        }
      }
    },
    {
      "cell_type": "code",
      "source": [
        "# create water mark text\r\n",
        "watermarks = {}\r\n",
        "dicom_mount_point = None\r\n",
        "watermarked_imge_folder = os.path.join(os.getenv(\"TEMP\") if os.name==\"nt\" else \"/tmp\", watermarked_dataset_name)\r\n",
        "\r\n",
        "with dicom_dataset.mount() as mount_context:\r\n",
        "    # mount and list all dicom files\r\n",
        "    dicom_mount_point = mount_context.mount_point\r\n",
        "    for root_dir, _, files in os.walk(mount_context.mount_point):\r\n",
        "        for file_name in files:\r\n",
        "            if file_name.lower().endswith('.dcm') or file_name.lower().endswith('.dicm'):\r\n",
        "                patient_id = file_name[: -4]\r\n",
        "                dicom_full_path = os.path.join(root_dir, file_name)\r\n",
        "                dicom = pydicom.read_file(dicom_full_path)\r\n",
        "                watermark_text = \"{} {}\".format(dicom['PatientSex'].value, dicom['ViewPosition'].value)\r\n",
        "                watermarks[patient_id] = watermark_text"
      ],
      "outputs": [],
      "execution_count": null,
      "metadata": {
        "collapsed": true,
        "jupyter": {
          "source_hidden": false,
          "outputs_hidden": false
        },
        "nteract": {
          "transient": {
            "deleting": false
          }
        },
        "gather": {
          "logged": 1622503684631
        }
      }
    },
    {
      "cell_type": "code",
      "source": [
        "png_temp_folder = os.path.join(os.getenv(\"TEMP\") if os.name==\"nt\" else \"/tmp\", 'NoWindow')\r\n",
        "dataset = Dataset.get_by_name(ws, name='NoWindow')\r\n",
        "dataset.download(target_path=png_temp_folder, overwrite=True)\r\n"
      ],
      "outputs": [],
      "execution_count": null,
      "metadata": {
        "collapsed": true,
        "jupyter": {
          "source_hidden": false,
          "outputs_hidden": false
        },
        "nteract": {
          "transient": {
            "deleting": false
          }
        },
        "gather": {
          "logged": 1622505430024
        }
      }
    },
    {
      "cell_type": "code",
      "source": [
        "fusion_base_path = os.path.join(os.getenv(\"TEMP\") if os.name==\"nt\" else \"/tmp\", watermarked_dataset_name)\r\n",
        "if not os.path.exists(fusion_base_path):\r\n",
        "    os.makedirs(fusion_base_path)\r\n",
        "\r\n",
        "count = 0\r\n",
        "opacity = 50/100\r\n",
        "for dir, _, files in os.walk(png_temp_folder):\r\n",
        "    for f in files:\r\n",
        "     if f.endswith('.png'):\r\n",
        "        count += 1\r\n",
        "        patient_id = f[: -4]\r\n",
        "        # read dicom image\r\n",
        "        img = cv2.imread(os.path.join(dir, f))\r\n",
        "        overlay = img.copy()\r\n",
        "        output = img.copy()\r\n",
        "        cv2.putText(overlay, text, (int((img.shape[0]) / 5), int((img.shape[1]) - 20 )), cv2.FONT_HERSHEY_SIMPLEX, 5.0, (255,255,255), 10)\r\n",
        "        # apply the overlay\r\n",
        "        cv2.addWeighted(overlay, opacity, output, 1 - opacity, 0, output)\r\n",
        "        new_png_file = os.path.join(fusion_base_path, f)\r\n",
        "        print('Creating {}'.format(new_png_file))\r\n",
        "        cv2.imwrite(new_png_file, output)\r\n",
        "\r\n",
        "print('Total {} PNG files generated under {}.'.format(count, watermarked_dataset_name))"
      ],
      "outputs": [],
      "execution_count": null,
      "metadata": {
        "collapsed": true,
        "jupyter": {
          "source_hidden": false,
          "outputs_hidden": false
        },
        "nteract": {
          "transient": {
            "deleting": false
          }
        },
        "gather": {
          "logged": 1622506516338
        }
      }
    },
    {
      "cell_type": "code",
      "source": [
        "fusion_base_path\r\n",
        "os.path.isdir(fusion_base_path)"
      ],
      "outputs": [],
      "execution_count": null,
      "metadata": {
        "collapsed": true,
        "jupyter": {
          "source_hidden": false,
          "outputs_hidden": false
        },
        "nteract": {
          "transient": {
            "deleting": false
          }
        },
        "gather": {
          "logged": 1622506516549
        }
      }
    },
    {
      "cell_type": "code",
      "source": [
        "default_ds.upload(src_dir = fusion_base_path, target_path= '/fhl/datasets/' + watermarked_dataset_name + '/image/', overwrite= True)"
      ],
      "outputs": [],
      "execution_count": null,
      "metadata": {
        "collapsed": true,
        "jupyter": {
          "source_hidden": false,
          "outputs_hidden": false
        },
        "nteract": {
          "transient": {
            "deleting": false
          }
        },
        "gather": {
          "logged": 1622509259882
        }
      }
    },
    {
      "cell_type": "code",
      "source": [],
      "outputs": [],
      "execution_count": null,
      "metadata": {
        "collapsed": true,
        "jupyter": {
          "source_hidden": false,
          "outputs_hidden": false
        },
        "nteract": {
          "transient": {
            "deleting": false
          }
        }
      }
    }
  ],
  "metadata": {
    "kernelspec": {
      "name": "python38-azureml",
      "language": "python",
      "display_name": "Python 3.8 - AzureML"
    },
    "language_info": {
      "name": "python",
      "version": "3.8.1",
      "mimetype": "text/x-python",
      "codemirror_mode": {
        "name": "ipython",
        "version": 3
      },
      "pygments_lexer": "ipython3",
      "nbconvert_exporter": "python",
      "file_extension": ".py"
    },
    "kernel_info": {
      "name": "python38-azureml"
    },
    "microsoft": {
      "host": {
        "AzureML": {
          "notebookHasBeenCompleted": true
        }
      }
    },
    "nteract": {
      "version": "nteract-front-end@1.0.0"
    }
  },
  "nbformat": 4,
  "nbformat_minor": 2
}